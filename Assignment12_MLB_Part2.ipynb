{
 "cells": [
  {
   "cell_type": "markdown",
   "id": "overall-exhibition",
   "metadata": {},
   "source": [
    "Michael Beauchamp\n",
    "Assignment 12\n",
    "Data 620 Section 9040\n",
    "Summer 2021\n",
    "Prof. Carrie Beam\n",
    "\n",
    "Part 2\n",
    "\n",
    "After running code part 1 on all of the original files and getting the final files for the speeches, this code with combine them and turn them into a Excel file."
   ]
  },
  {
   "cell_type": "code",
   "execution_count": 1,
   "id": "positive-amplifier",
   "metadata": {},
   "outputs": [
    {
     "name": "stdout",
     "output_type": "stream",
     "text": [
      "Requirement already satisfied: openpyxl in /srv/conda/envs/notebook/lib/python3.6/site-packages (3.0.7)\n",
      "Requirement already satisfied: et-xmlfile in /srv/conda/envs/notebook/lib/python3.6/site-packages (from openpyxl) (1.1.0)\n",
      "Requirement already satisfied: XlsxWriter in /srv/conda/envs/notebook/lib/python3.6/site-packages (1.4.5)\n"
     ]
    }
   ],
   "source": [
    "import os\n",
    "import sys\n",
    "!{sys.executable} -m pip install openpyxl\n",
    "!{sys.executable} -m pip install XlsxWriter\n",
    "import csv\n",
    "import glob\n",
    "import pandas as pd"
   ]
  },
  {
   "cell_type": "code",
   "execution_count": 2,
   "id": "operational-agent",
   "metadata": {},
   "outputs": [],
   "source": [
    "#Take the combine speech csv and convert it to a excel file for Tableau\n",
    "def ToExcel():\n",
    "    read_file = pd.read_csv('CombineSpeeches.csv')\n",
    "    read_file.to_excel ('FinalFile.xlsx', index = None, header=True, encoding='UTF-8')"
   ]
  },
  {
   "cell_type": "code",
   "execution_count": 3,
   "id": "outside-incentive",
   "metadata": {},
   "outputs": [],
   "source": [
    "#Combine the final speech files into 1 csv file\n",
    "def combinefiles():\n",
    "    extension = 'csv'\n",
    "    #looks for only the csv files that start with Final, which were created in part 1\n",
    "    all_filenames = [i for i in glob.glob('Final*.{}'.format(extension))]\n",
    "    \n",
    "    combined_csv = pd.concat([pd.read_csv(f) for f in all_filenames])\n",
    "    #call the file CombineSpeeches.csv\n",
    "    combined_csv.to_csv(\"CombineSpeeches.csv\", index=False)\n",
    "    #Run the code to convert once the combine file has finished\n",
    "    ToExcel()"
   ]
  },
  {
   "cell_type": "code",
   "execution_count": 4,
   "id": "crucial-formation",
   "metadata": {},
   "outputs": [],
   "source": [
    "combinefiles()"
   ]
  }
 ],
 "metadata": {
  "kernelspec": {
   "display_name": "Python 3",
   "language": "python",
   "name": "python3"
  },
  "language_info": {
   "codemirror_mode": {
    "name": "ipython",
    "version": 3
   },
   "file_extension": ".py",
   "mimetype": "text/x-python",
   "name": "python",
   "nbconvert_exporter": "python",
   "pygments_lexer": "ipython3",
   "version": "3.6.13"
  }
 },
 "nbformat": 4,
 "nbformat_minor": 5
}
